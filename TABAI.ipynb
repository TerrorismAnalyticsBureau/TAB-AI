{
  "nbformat": 4,
  "nbformat_minor": 0,
  "metadata": {
    "colab": {
      "provenance": [],
      "authorship_tag": "ABX9TyPSKpSH8hq5Kw5oQRJQhR+O",
      "include_colab_link": true
    },
    "kernelspec": {
      "name": "python3",
      "display_name": "Python 3"
    },
    "language_info": {
      "name": "python"
    }
  },
  "cells": [
    {
      "cell_type": "markdown",
      "metadata": {
        "id": "view-in-github",
        "colab_type": "text"
      },
      "source": [
        "<a href=\"https://colab.research.google.com/github/TerrorismAnalyticsBureau/TAB-AI/blob/main/TABAI.ipynb\" target=\"_parent\"><img src=\"https://colab.research.google.com/assets/colab-badge.svg\" alt=\"Open In Colab\"/></a>"
      ]
    },
    {
      "cell_type": "code",
      "execution_count": null,
      "metadata": {
        "id": "fh97AMOCu5q5"
      },
      "outputs": [],
      "source": []
    },
    {
      "cell_type": "markdown",
      "source": [
        "•    iyear, imonth, iday\n",
        "•    country (the country code) and country_txt\n",
        "•    region and region_txt\n",
        "•    provstate and city\n",
        "•    latitude and longitude (maybe)\n",
        "•    attacktype1 and attacktype1_txt\n",
        "•    targtype1 and targtype1_txt\n",
        "•    targsubtype1 and targsubtype1_txt\n",
        "•    target1 (the specific target by name, building or person), maybe\n",
        "•    natity1 and natity1_txt (maybe later)\n",
        "•    weaptype1 and weaptype1_txt (maybe)\n",
        "•    nkill and nwound"
      ],
      "metadata": {
        "id": "nK7HLnxk5jkd"
      }
    }
  ]
}