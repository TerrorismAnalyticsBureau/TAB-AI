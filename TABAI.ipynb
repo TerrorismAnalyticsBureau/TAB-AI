{
  "nbformat": 4,
  "nbformat_minor": 0,
  "metadata": {
    "colab": {
      "provenance": [],
      "gpuType": "T4",
      "authorship_tag": "ABX9TyNOy3OvJn53wYpGyvtIrGGR",
      "include_colab_link": true
    },
    "kernelspec": {
      "name": "python3",
      "display_name": "Python 3"
    },
    "language_info": {
      "name": "python"
    },
    "accelerator": "GPU"
  },
  "cells": [
    {
      "cell_type": "markdown",
      "metadata": {
        "id": "view-in-github",
        "colab_type": "text"
      },
      "source": [
        "<a href=\"https://colab.research.google.com/github/TerrorismAnalyticsBureau/TAB-AI/blob/main/TABAI.ipynb\" target=\"_parent\"><img src=\"https://colab.research.google.com/assets/colab-badge.svg\" alt=\"Open In Colab\"/></a>"
      ]
    },
    {
      "cell_type": "code",
      "execution_count": null,
      "metadata": {
        "id": "fh97AMOCu5q5",
        "colab": {
          "base_uri": "https://localhost:8080/"
        },
        "outputId": "3347f08f-d99b-4d58-e0e3-d0578f2fef46"
      },
      "outputs": [
        {
          "output_type": "stream",
          "name": "stderr",
          "text": [
            "<ipython-input-7-a7f31e96fd7d>:32: DtypeWarning: Columns (4,6,31,33,61,62,63,76,79,90,92,94,96,114,115,121) have mixed types. Specify dtype option on import or set low_memory=False.\n",
            "  data = pd.read_csv('./globalterrorismdb_0718dist.csv', encoding=\"Windows-1252\")\n"
          ]
        },
        {
          "output_type": "stream",
          "name": "stdout",
          "text": [
            "tensor([[1.9700e+03, 7.0000e+00, 2.0000e+00, 5.8000e+01, 2.0000e+00],\n",
            "        [1.9700e+03, 0.0000e+00, 0.0000e+00, 1.3000e+02, 1.0000e+00],\n",
            "        [1.9700e+03, 1.0000e+00, 0.0000e+00, 1.6000e+02, 5.0000e+00],\n",
            "        ...,\n",
            "        [2.0170e+03, 1.2000e+01, 3.1000e+01, 1.6000e+02, 5.0000e+00],\n",
            "        [2.0170e+03, 1.2000e+01, 3.1000e+01, 9.2000e+01, 6.0000e+00],\n",
            "        [2.0170e+03, 1.2000e+01, 3.1000e+01, 1.6000e+02, 5.0000e+00]],\n",
            "       device='cuda:0')\n"
          ]
        }
      ],
      "source": [
        "import torch\n",
        "import numpy as np\n",
        "import pandas as pd\n",
        "import torch.nn as nn\n",
        "import torch.nn.functional as func\n",
        "import torch.optim as optim\n",
        "import matplotlib.pyplot as plt\n",
        "import math\n",
        "import os\n",
        "import chardet\n",
        "from sklearn.preprocessing import LabelEncoder\n",
        "\n",
        "# Set pyTorch local env to use segmented GPU memory\n",
        "os.environ['PYTORCH_CUDA_ALLOC_CONF'] = 'expandable_segments:True'\n",
        "\n",
        "# Clear GPU cache & Set the device to use GPU\n",
        "torch.cuda.empty_cache()\n",
        "device = torch.device(\"cuda\" if torch.cuda.is_available() else \"cpu\")\n",
        "\n",
        "# Load dataset\n",
        "# Skip rows = 1 because those are the column names\n",
        "X = np.array([])\n",
        "\n",
        "\n",
        "# Load the data\n",
        "# Open the file and detect the encoding\n",
        "#with open('./globalterrorismdb_0718dist.csv', 'rb') as f:\n",
        "#    result = chardet.detect(f.read())\n",
        "\n",
        "# Get the detected encoding\n",
        "#print(f\"Detected encoding: {result['encoding']}\")\n",
        "\n",
        "# Now, read the file using the detected encoding\n",
        "data = pd.read_csv('./globalterrorismdb_0718dist.csv', encoding=\"Windows-1252\")\n",
        "\n",
        "# Extract relevant columns (adjust indices or column names as needed)\n",
        "data_columns = data.iloc[:, [1, 2, 3, 7, 9]]\n",
        "data_columns = data_columns.fillna(0)\n",
        "\n",
        "target_columns = data.iloc[:, [1, 2, 3, 7, 9]]\n",
        "target_columns = data_columns.fillna(0)\n",
        "\n",
        "data_tensor = torch.tensor(data_columns.values, dtype=torch.float32)\n",
        "target_tensor = torch.tensor(target_columns.values, dtype=torch.float32)\n",
        "\n",
        "# Example list of groups\n",
        "groups = []\n",
        "for group in data['gname']:\n",
        "    if group not in groups:\n",
        "        groups.append(group)\n",
        "\n",
        "provstates = []\n",
        "for provstate in data['provstate']:\n",
        "    if provstate not in provstates:\n",
        "        provstates.append(provstate)\n",
        "\n",
        "cities = []\n",
        "for city in data['city']:\n",
        "    if city not in cities:\n",
        "        cities.append(city)\n",
        "\n",
        "# Initialize label encoder\n",
        "label_encoder = LabelEncoder()\n",
        "\n",
        "# Fit the encoder and transform the group names into integers\n",
        "group_numerical = label_encoder.fit_transform(groups)\n",
        "\n",
        "# use cols skips over column 6 as that is the symbol of the stock\n",
        "X_tensor = data_tensor\n",
        "Y_tensor = target_tensor\n",
        "\n",
        "# Set tensors to use GPU\n",
        "X_tensor = X_tensor.to(device)\n",
        "Y_tensor = Y_tensor.to(device)\n",
        "\n",
        "print(X_tensor)\n",
        "\n",
        "class LSTMAttackPredictor(nn.Module):\n",
        "    def __init__(self, input_size, hidden_size, output_size):\n",
        "        super(LSTMAttackPredictor, self).__init__()\n",
        "        self.lstm = nn.LSTM(input_size, hidden_size, batch_first=True)\n",
        "        self.fc = nn.Linear(hidden_size, output_size)\n",
        "\n",
        "    def forward(self, x):\n",
        "        lstm_out, _ = self.lstm(x)\n",
        "        out = self.fc(lstm_out[:, -1, :])  # Use the last time step output\n",
        "        return out\n",
        "\n",
        "\n",
        "model = LSTMAttackPredictor(input_size=5, hidden_size=128, output_size=3)\n",
        "model  = model.to(device)\n"
      ]
    },
    {
      "cell_type": "markdown",
      "source": [
        "name (csv column number)\n",
        "```\n",
        "•    iyear (1), imonth (2), iday (3)\n",
        "•    country code (7) and country_txt (8)\n",
        "•    region code (9) and region_txt (10)\n",
        "•    provstate (11) and city (12)\n",
        "•    latitude (13) and longitude (14)\n",
        "•    attacktype1 (28) and attacktype1_txt (29)\n",
        "•    targtype1 (34) and targtype1_txt (35)\n",
        "•    targsubtype1 (36) and targsubtype1_txt (37)\n",
        "•    target1 (39) (the specific target by name, building or person)\n",
        "\n",
        "•    natity1 (40) and natity1_txt (41) (maybe later)\n",
        "•    gname (group name) (57)\n",
        "•    weaptype1 (81) and weaptype1_txt (82) (maybe)\n",
        "•    nkill (98) and nwound (101)\n",
        "\n",
        "```\n",
        "\n"
      ],
      "metadata": {
        "id": "nK7HLnxk5jkd"
      }
    }
  ]
}