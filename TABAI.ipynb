{
  "nbformat": 4,
  "nbformat_minor": 0,
  "metadata": {
    "colab": {
      "provenance": [],
      "gpuType": "T4",
      "authorship_tag": "ABX9TyOLrd4jEKZon7/Y7f1ffcJQ",
      "include_colab_link": true
    },
    "kernelspec": {
      "name": "python3",
      "display_name": "Python 3"
    },
    "language_info": {
      "name": "python"
    },
    "accelerator": "GPU"
  },
  "cells": [
    {
      "cell_type": "markdown",
      "metadata": {
        "id": "view-in-github",
        "colab_type": "text"
      },
      "source": [
        "<a href=\"https://colab.research.google.com/github/TerrorismAnalyticsBureau/TAB-AI/blob/main/TABAI.ipynb\" target=\"_parent\"><img src=\"https://colab.research.google.com/assets/colab-badge.svg\" alt=\"Open In Colab\"/></a>"
      ]
    },
    {
      "cell_type": "code",
      "execution_count": 13,
      "metadata": {
        "id": "fh97AMOCu5q5",
        "colab": {
          "base_uri": "https://localhost:8080/"
        },
        "outputId": "8d4867c1-39a5-4bbe-9abd-5c36cbeb90c6"
      },
      "outputs": [
        {
          "output_type": "stream",
          "name": "stderr",
          "text": [
            "<ipython-input-13-c28a4a63c482>:34: DtypeWarning: Columns (4,6,31,33,61,62,63,76,79,90,92,94,96,114,115,121) have mixed types. Specify dtype option on import or set low_memory=False.\n",
            "  data = pd.read_csv('./globalterrorismdb_0718dist.csv', encoding=\"Windows-1252\")\n"
          ]
        },
        {
          "output_type": "stream",
          "name": "stdout",
          "text": [
            "tensor([110., 110., 110.,  ..., 110., 110., 110.])\n"
          ]
        },
        {
          "output_type": "stream",
          "name": "stderr",
          "text": [
            "/usr/local/lib/python3.10/dist-packages/sklearn/preprocessing/_label.py:114: DataConversionWarning: A column-vector y was passed when a 1d array was expected. Please change the shape of y to (n_samples, ), for example using ravel().\n",
            "  y = column_or_1d(y, warn=True)\n"
          ]
        }
      ],
      "source": [
        "import torch\n",
        "import numpy as np\n",
        "import pandas as pd\n",
        "import torch.nn as nn\n",
        "import torch.nn.functional as func\n",
        "import torch.optim as optim\n",
        "import matplotlib.pyplot as plt\n",
        "import math\n",
        "import os\n",
        "import chardet\n",
        "from sklearn.preprocessing import LabelEncoder\n",
        "\n",
        "# Set pyTorch local env to use segmented GPU memory\n",
        "os.environ['PYTORCH_CUDA_ALLOC_CONF'] = 'expandable_segments:True'\n",
        "\n",
        "# Clear GPU cache & Set the device to use GPU\n",
        "torch.cuda.empty_cache()\n",
        "device = torch.device(\"cuda\" if torch.cuda.is_available() else \"cpu\")\n",
        "\n",
        "# Load dataset\n",
        "# Skip rows = 1 because those are the column names\n",
        "X = np.array([])\n",
        "\n",
        "\n",
        "# Load the data\n",
        "# Open the file and detect the encoding\n",
        "#with open('./globalterrorismdb_0718dist.csv', 'rb') as f:\n",
        "#    result = chardet.detect(f.read())\n",
        "\n",
        "# Get the detected encoding\n",
        "#print(f\"Detected encoding: {result['encoding']}\")\n",
        "\n",
        "# Now, read the file using the detected encoding\n",
        "data = pd.read_csv('./globalterrorismdb_0718dist.csv', encoding=\"Windows-1252\")\n",
        "\n",
        "# Extract relevant columns (adjust indices or column names as needed)\n",
        "input_columns = data.iloc[:, [1, 2, 3, 7, 9]]\n",
        "input_columns = input_columns.fillna(0)\n",
        "\n",
        "attack_target = data.iloc[:, [28]]\n",
        "group_target = data.iloc[:, [57]]\n",
        "date_target = data.iloc[:, [1, 2, 3]]\n",
        "\n",
        "# Extract unique group names\n",
        "unique_groups = list(set(data['gname']))\n",
        "unique_provstates = list(set(data['provstate']))\n",
        "unique_cities = list(set(data['city']))\n",
        "\n",
        "# Initialize LabelEncoder and fit to the unique groups\n",
        "group_encoder = LabelEncoder()\n",
        "group_encoder.fit(unique_groups)\n",
        "\n",
        "provstate_encoder = LabelEncoder()\n",
        "provstate_encoder.fit(unique_provstates)\n",
        "\n",
        "city_encoder = LabelEncoder()\n",
        "city_encoder.fit(unique_cities)\n",
        "\n",
        "# Create a dictionary to map names to their encoded IDs\n",
        "group_dict = pd.Series(group_encoder.transform(unique_groups), index=unique_groups)\n",
        "provstate_dict = pd.Series(provstate_encoder.transform(unique_provstates), index=unique_provstates)\n",
        "city_dict = pd.Series(city_encoder.transform(unique_cities), index=unique_cities)\n",
        "\n",
        "# Assign values to tensors for processing\n",
        "input_tensor = torch.tensor(input_columns.values, dtype=torch.float32)\n",
        "attack_target_tensor = torch.tensor(attack_target.values, dtype=torch.float32)\n",
        "group_target_tensor = torch.tensor(group_encoder.fit_transform(group_target.values), dtype=torch.float32)\n",
        "date_target_tensor = torch.tensor(date_target.values, dtype=torch.float32)\n",
        "\n",
        "# TESTING - PRINT DICTIONARY ITEMS\n",
        "#for key, value in group_dict.items():\n",
        "#  print(\"group: \", key, \"| ID #:\", value)\n",
        "\n",
        "#for key, value in provstate_dict.items():\n",
        "#  print(\"provstate: \", key, \"| ID #:\", value)\n",
        "\n",
        "#for key, value in city_dict.items():\n",
        "#  print(\"city: \", key, \"| ID #:\", value)\n",
        "\n",
        "# Assign values to tensors for processing\n",
        "X_tensor = input_tensor\n",
        "Y_tensor_attack = attack_target_tensor\n",
        "Y_tensor_group = group_target_tensor\n",
        "Y_tensor_date = date_target_tensor\n",
        "\n",
        "# Set tensors to use GPU\n",
        "X_tensor = X_tensor.to(device)\n",
        "Y_tensor_attack = Y_tensor_attack.to(device)\n",
        "Y_tensor_group = Y_tensor_group.to(device)\n",
        "Y_tensor_date = Y_tensor_date.to(device)\n",
        "\n",
        "class LSTMAttackPredictor(nn.Module):\n",
        "    def __init__(self, input_size, hidden_size, output_size):\n",
        "        super(LSTMAttackPredictor, self).__init__()\n",
        "        self.lstm = nn.LSTM(input_size, hidden_size, batch_first=True)\n",
        "        self.dropout = nn.Dropout(0.2)\n",
        "        self.fc = nn.Linear(hidden_size, output_size)\n",
        "\n",
        "    def forward(self, x):\n",
        "        lstm_out, _ = self.lstm(x)\n",
        "        lstm_out = self.dropout(lstm_out)  # Dropout after LSTM\n",
        "        logits = self.fc(lstm_out[:, -1, :])  # Fully connected on the last time step\n",
        "        return logits  # Return raw logits for training with CrossEntropyLoss\n",
        "\n",
        "\n",
        "model = LSTMAttackPredictor(input_size=5, hidden_size=128, output_size=3)\n",
        "model  = model.to(device)\n",
        "\n",
        "\n"
      ]
    },
    {
      "cell_type": "markdown",
      "source": [
        "name (csv column number)\n",
        "```\n",
        "•    iyear (1), imonth (2), iday (3)\n",
        "•    country code (7) and country_txt (8)\n",
        "•    region code (9) and region_txt (10)\n",
        "•    provstate (11) and city (12)\n",
        "•    latitude (13) and longitude (14)\n",
        "•    attacktype1 (28) and attacktype1_txt (29)\n",
        "•    targtype1 (34) and targtype1_txt (35)\n",
        "•    targsubtype1 (36) and targsubtype1_txt (37)\n",
        "•    target1 (39) (the specific target by name, building or person)\n",
        "\n",
        "•    natity1 (40) and natity1_txt (41) (maybe later)\n",
        "•    gname (group name) (57)\n",
        "•    weaptype1 (81) and weaptype1_txt (82) (maybe)\n",
        "•    nkill (98) and nwound (101)\n",
        "\n",
        "```\n",
        "\n"
      ],
      "metadata": {
        "id": "nK7HLnxk5jkd"
      }
    }
  ]
}